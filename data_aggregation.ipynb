{
 "cells": [
  {
   "cell_type": "code",
   "execution_count": 2,
   "metadata": {},
   "outputs": [],
   "source": [
    "import pandas as pd\n",
    "from datetime import timedelta\n",
    "import matplotlib.pyplot as plt"
   ]
  },
  {
   "cell_type": "markdown",
   "metadata": {},
   "source": [
    "## Generacion"
   ]
  },
  {
   "cell_type": "code",
   "execution_count": 3,
   "metadata": {},
   "outputs": [
    {
     "name": "stdout",
     "output_type": "stream",
     "text": [
      "Mix:\n"
     ]
    },
    {
     "name": "stdout",
     "output_type": "stream",
     "text": [
      "2011 8760 8760\n",
      "2012 8784 8784\n",
      "2013 8760 8760\n",
      "Eolica:\n",
      "2014 8760\n",
      "2015 8760\n",
      "2016 8784\n",
      "2017 8760\n",
      "2018 8760\n",
      "2019 8760\n",
      "2020 8784\n",
      "2021 8760\n",
      "2022 8760\n",
      "2023 8016\n",
      "Solar:\n",
      "2014 8760\n",
      "2015 8760\n",
      "2016 8784\n",
      "2017 8760\n",
      "2018 8760\n",
      "2019 8760\n",
      "2020 8784\n",
      "2021 8760\n",
      "2022 8760\n",
      "2023 8016\n"
     ]
    }
   ],
   "source": [
    "eolica = []\n",
    "solar = []\n",
    "print('Mix:')\n",
    "for i in range(2011,2014):\n",
    "    df = pd.read_csv(f\"data/generacion_{i}.csv\", index_col=0, parse_dates=True)\n",
    "    df_e = df[['Eólica']].rename(columns={\n",
    "        'Eólica':'value'\n",
    "    })\n",
    "    df_s = df[['Solar']].rename(columns={\n",
    "        'Solar': 'value'\n",
    "    })\n",
    "    print(i,len(df_e),len(df_s))\n",
    "    eolica.append(df_e)\n",
    "    solar.append(df_s)\n",
    "print(\"Eolica:\")\n",
    "for i in range(2014,2024):\n",
    "    df = pd.read_csv(f'data/GeneracionMedidaEolica_{i}.csv', sep=';', index_col=5, parse_dates=True)\n",
    "    df = df[['value']]\n",
    "    print(i,len(df))\n",
    "    eolica.append(df)\n",
    "\n",
    "print(\"Solar:\")\n",
    "for i in range(2014,2024):\n",
    "    df = pd.read_csv(f'data/GeneracionMedidaSolar_{i}.csv', sep=';', index_col=5, parse_dates=True)\n",
    "    df = df[['value']]\n",
    "    print(i,len(df))\n",
    "    solar.append(df)\n",
    "\n",
    "df_eolica = pd.concat(eolica)\n",
    "df_solar = pd.concat(solar)"
   ]
  },
  {
   "cell_type": "code",
   "execution_count": 4,
   "metadata": {},
   "outputs": [
    {
     "data": {
      "text/html": [
       "<div>\n",
       "<style scoped>\n",
       "    .dataframe tbody tr th:only-of-type {\n",
       "        vertical-align: middle;\n",
       "    }\n",
       "\n",
       "    .dataframe tbody tr th {\n",
       "        vertical-align: top;\n",
       "    }\n",
       "\n",
       "    .dataframe thead th {\n",
       "        text-align: right;\n",
       "    }\n",
       "</style>\n",
       "<table border=\"1\" class=\"dataframe\">\n",
       "  <thead>\n",
       "    <tr style=\"text-align: right;\">\n",
       "      <th></th>\n",
       "      <th>value</th>\n",
       "    </tr>\n",
       "  </thead>\n",
       "  <tbody>\n",
       "    <tr>\n",
       "      <th>2011-03-27 02:00:00</th>\n",
       "      <td>NaN</td>\n",
       "    </tr>\n",
       "    <tr>\n",
       "      <th>2011-10-30 02:00:00</th>\n",
       "      <td>NaN</td>\n",
       "    </tr>\n",
       "    <tr>\n",
       "      <th>2012-03-25 02:00:00</th>\n",
       "      <td>NaN</td>\n",
       "    </tr>\n",
       "    <tr>\n",
       "      <th>2012-10-28 02:00:00</th>\n",
       "      <td>NaN</td>\n",
       "    </tr>\n",
       "    <tr>\n",
       "      <th>2013-03-31 02:00:00</th>\n",
       "      <td>NaN</td>\n",
       "    </tr>\n",
       "    <tr>\n",
       "      <th>2013-10-27 02:00:00</th>\n",
       "      <td>NaN</td>\n",
       "    </tr>\n",
       "  </tbody>\n",
       "</table>\n",
       "</div>"
      ],
      "text/plain": [
       "                     value\n",
       "2011-03-27 02:00:00    NaN\n",
       "2011-10-30 02:00:00    NaN\n",
       "2012-03-25 02:00:00    NaN\n",
       "2012-10-28 02:00:00    NaN\n",
       "2013-03-31 02:00:00    NaN\n",
       "2013-10-27 02:00:00    NaN"
      ]
     },
     "execution_count": 4,
     "metadata": {},
     "output_type": "execute_result"
    }
   ],
   "source": [
    "df_solar[df_solar['value'].isna()]"
   ]
  },
  {
   "cell_type": "code",
   "execution_count": 5,
   "metadata": {},
   "outputs": [
    {
     "data": {
      "text/html": [
       "<div>\n",
       "<style scoped>\n",
       "    .dataframe tbody tr th:only-of-type {\n",
       "        vertical-align: middle;\n",
       "    }\n",
       "\n",
       "    .dataframe tbody tr th {\n",
       "        vertical-align: top;\n",
       "    }\n",
       "\n",
       "    .dataframe thead th {\n",
       "        text-align: right;\n",
       "    }\n",
       "</style>\n",
       "<table border=\"1\" class=\"dataframe\">\n",
       "  <thead>\n",
       "    <tr style=\"text-align: right;\">\n",
       "      <th></th>\n",
       "      <th>value</th>\n",
       "    </tr>\n",
       "  </thead>\n",
       "  <tbody>\n",
       "    <tr>\n",
       "      <th>2011-03-27 02:00:00</th>\n",
       "      <td>NaN</td>\n",
       "    </tr>\n",
       "    <tr>\n",
       "      <th>2011-10-30 02:00:00</th>\n",
       "      <td>NaN</td>\n",
       "    </tr>\n",
       "    <tr>\n",
       "      <th>2012-03-25 02:00:00</th>\n",
       "      <td>NaN</td>\n",
       "    </tr>\n",
       "    <tr>\n",
       "      <th>2012-10-28 02:00:00</th>\n",
       "      <td>NaN</td>\n",
       "    </tr>\n",
       "    <tr>\n",
       "      <th>2013-03-31 02:00:00</th>\n",
       "      <td>NaN</td>\n",
       "    </tr>\n",
       "    <tr>\n",
       "      <th>2013-10-27 02:00:00</th>\n",
       "      <td>NaN</td>\n",
       "    </tr>\n",
       "  </tbody>\n",
       "</table>\n",
       "</div>"
      ],
      "text/plain": [
       "                     value\n",
       "2011-03-27 02:00:00    NaN\n",
       "2011-10-30 02:00:00    NaN\n",
       "2012-03-25 02:00:00    NaN\n",
       "2012-10-28 02:00:00    NaN\n",
       "2013-03-31 02:00:00    NaN\n",
       "2013-10-27 02:00:00    NaN"
      ]
     },
     "execution_count": 5,
     "metadata": {},
     "output_type": "execute_result"
    }
   ],
   "source": [
    "df_eolica[df_eolica['value'].isna()]"
   ]
  },
  {
   "cell_type": "code",
   "execution_count": 16,
   "metadata": {},
   "outputs": [
    {
     "data": {
      "text/html": [
       "<div>\n",
       "<style scoped>\n",
       "    .dataframe tbody tr th:only-of-type {\n",
       "        vertical-align: middle;\n",
       "    }\n",
       "\n",
       "    .dataframe tbody tr th {\n",
       "        vertical-align: top;\n",
       "    }\n",
       "\n",
       "    .dataframe thead th {\n",
       "        text-align: right;\n",
       "    }\n",
       "</style>\n",
       "<table border=\"1\" class=\"dataframe\">\n",
       "  <thead>\n",
       "    <tr style=\"text-align: right;\">\n",
       "      <th></th>\n",
       "      <th>solar</th>\n",
       "      <th>eolica</th>\n",
       "    </tr>\n",
       "  </thead>\n",
       "  <tbody>\n",
       "    <tr>\n",
       "      <th>2011-01-01 00:00:00</th>\n",
       "      <td>0.0</td>\n",
       "      <td>788.833333</td>\n",
       "    </tr>\n",
       "    <tr>\n",
       "      <th>2011-01-01 01:00:00</th>\n",
       "      <td>0.0</td>\n",
       "      <td>665.916667</td>\n",
       "    </tr>\n",
       "    <tr>\n",
       "      <th>2011-01-01 02:00:00</th>\n",
       "      <td>0.0</td>\n",
       "      <td>580.083333</td>\n",
       "    </tr>\n",
       "    <tr>\n",
       "      <th>2011-01-01 03:00:00</th>\n",
       "      <td>0.0</td>\n",
       "      <td>492.500000</td>\n",
       "    </tr>\n",
       "    <tr>\n",
       "      <th>2011-01-01 04:00:00</th>\n",
       "      <td>0.0</td>\n",
       "      <td>514.333333</td>\n",
       "    </tr>\n",
       "  </tbody>\n",
       "</table>\n",
       "</div>"
      ],
      "text/plain": [
       "                     solar      eolica\n",
       "2011-01-01 00:00:00    0.0  788.833333\n",
       "2011-01-01 01:00:00    0.0  665.916667\n",
       "2011-01-01 02:00:00    0.0  580.083333\n",
       "2011-01-01 03:00:00    0.0  492.500000\n",
       "2011-01-01 04:00:00    0.0  514.333333"
      ]
     },
     "execution_count": 16,
     "metadata": {},
     "output_type": "execute_result"
    }
   ],
   "source": [
    "df_total = df_solar.merge(df_eolica, left_index=True, right_index=True, how='outer')\n",
    "df_total = df_total.rename(columns={\n",
    "    'value_x': 'solar',\n",
    "    'value_y': 'eolica'\n",
    "})\n",
    "df_total.head()"
   ]
  },
  {
   "cell_type": "code",
   "execution_count": 18,
   "metadata": {},
   "outputs": [],
   "source": [
    "df_total.index = pd.to_datetime(df_total.index, format='ISO8601', utc=True)"
   ]
  },
  {
   "cell_type": "code",
   "execution_count": 10,
   "metadata": {},
   "outputs": [
    {
     "data": {
      "text/plain": [
       "DatetimeIndex(['2013-12-31 23:00:00+00:00'], dtype='datetime64[ns, UTC]', freq=None)"
      ]
     },
     "execution_count": 10,
     "metadata": {},
     "output_type": "execute_result"
    }
   ],
   "source": [
    "duplicate_index = df_total.index.duplicated()\n",
    "\n",
    "# Extract the duplicate index values\n",
    "duplicate_values = df_total.index[duplicate_index]\n",
    "duplicate_values\n",
    "# df[(df.index>='2013-12-31 22:00:00')&(df.index<='2014-01-01 00:00:00')]\n",
    "df_total.groupby()"
   ]
  },
  {
   "cell_type": "code",
   "execution_count": 19,
   "metadata": {},
   "outputs": [
    {
     "name": "stdout",
     "output_type": "stream",
     "text": [
      "113208\n",
      "113207\n"
     ]
    }
   ],
   "source": [
    "print(len(df_total))\n",
    "df_total = df_total.reset_index()\n",
    "df_total = df_total.groupby('index').agg('first')\n",
    "print(len(df_total))"
   ]
  },
  {
   "cell_type": "code",
   "execution_count": 20,
   "metadata": {},
   "outputs": [],
   "source": [
    "df_total = df_total.asfreq('h')"
   ]
  },
  {
   "cell_type": "code",
   "execution_count": 22,
   "metadata": {},
   "outputs": [
    {
     "data": {
      "text/plain": [
       "DatetimeIndex(['2011-01-01 00:00:00+00:00', '2011-01-01 01:00:00+00:00',\n",
       "               '2011-01-01 02:00:00+00:00', '2011-01-01 03:00:00+00:00',\n",
       "               '2011-01-01 04:00:00+00:00', '2011-01-01 05:00:00+00:00',\n",
       "               '2011-01-01 06:00:00+00:00', '2011-01-01 07:00:00+00:00',\n",
       "               '2011-01-01 08:00:00+00:00', '2011-01-01 09:00:00+00:00',\n",
       "               ...\n",
       "               '2023-11-30 13:00:00+00:00', '2023-11-30 14:00:00+00:00',\n",
       "               '2023-11-30 15:00:00+00:00', '2023-11-30 16:00:00+00:00',\n",
       "               '2023-11-30 17:00:00+00:00', '2023-11-30 18:00:00+00:00',\n",
       "               '2023-11-30 19:00:00+00:00', '2023-11-30 20:00:00+00:00',\n",
       "               '2023-11-30 21:00:00+00:00', '2023-11-30 22:00:00+00:00'],\n",
       "              dtype='datetime64[ns, UTC]', name='index', length=113207, freq='H')"
      ]
     },
     "execution_count": 22,
     "metadata": {},
     "output_type": "execute_result"
    }
   ],
   "source": [
    "df_total.index"
   ]
  },
  {
   "cell_type": "code",
   "execution_count": 24,
   "metadata": {},
   "outputs": [
    {
     "data": {
      "text/plain": [
       "DatetimeIndex([], dtype='datetime64[ns, UTC]', freq='H')"
      ]
     },
     "execution_count": 24,
     "metadata": {},
     "output_type": "execute_result"
    }
   ],
   "source": [
    "min_date = df_total.index.min()\n",
    "max_date = df_total.index.max()\n",
    "complete_index = pd.date_range(min_date, max_date, freq='H')\n",
    "reference_df = pd.DataFrame(index=complete_index)\n",
    "\n",
    "# Find missing values by comparing the reference DataFrame with your original DataFrame\n",
    "missing_values = reference_df.index.difference(df_total.index)\n",
    "missing_values"
   ]
  },
  {
   "cell_type": "code",
   "execution_count": 25,
   "metadata": {},
   "outputs": [],
   "source": [
    "df_total.to_csv('data/generacion_conjunto.csv')"
   ]
  },
  {
   "cell_type": "markdown",
   "metadata": {},
   "source": [
    "## Potencia Instalada"
   ]
  },
  {
   "cell_type": "code",
   "execution_count": 47,
   "metadata": {},
   "outputs": [
    {
     "data": {
      "text/html": [
       "<div>\n",
       "<style scoped>\n",
       "    .dataframe tbody tr th:only-of-type {\n",
       "        vertical-align: middle;\n",
       "    }\n",
       "\n",
       "    .dataframe tbody tr th {\n",
       "        vertical-align: top;\n",
       "    }\n",
       "\n",
       "    .dataframe thead th {\n",
       "        text-align: right;\n",
       "    }\n",
       "</style>\n",
       "<table border=\"1\" class=\"dataframe\">\n",
       "  <thead>\n",
       "    <tr style=\"text-align: right;\">\n",
       "      <th></th>\n",
       "      <th>solar</th>\n",
       "      <th>eolica</th>\n",
       "    </tr>\n",
       "    <tr>\n",
       "      <th>datetime</th>\n",
       "      <th></th>\n",
       "      <th></th>\n",
       "    </tr>\n",
       "  </thead>\n",
       "  <tbody>\n",
       "    <tr>\n",
       "      <th>2014-12-31 23:00:00+00:00</th>\n",
       "      <td>4678.825</td>\n",
       "      <td>22930.612</td>\n",
       "    </tr>\n",
       "    <tr>\n",
       "      <th>2015-01-31 23:00:00+00:00</th>\n",
       "      <td>4678.895</td>\n",
       "      <td>22930.612</td>\n",
       "    </tr>\n",
       "    <tr>\n",
       "      <th>2015-02-28 23:00:00+00:00</th>\n",
       "      <td>4679.112</td>\n",
       "      <td>22930.612</td>\n",
       "    </tr>\n",
       "    <tr>\n",
       "      <th>2015-03-31 22:00:00+00:00</th>\n",
       "      <td>4679.219</td>\n",
       "      <td>22930.712</td>\n",
       "    </tr>\n",
       "    <tr>\n",
       "      <th>2015-04-30 22:00:00+00:00</th>\n",
       "      <td>4679.583</td>\n",
       "      <td>22932.512</td>\n",
       "    </tr>\n",
       "  </tbody>\n",
       "</table>\n",
       "</div>"
      ],
      "text/plain": [
       "                              solar     eolica\n",
       "datetime                                      \n",
       "2014-12-31 23:00:00+00:00  4678.825  22930.612\n",
       "2015-01-31 23:00:00+00:00  4678.895  22930.612\n",
       "2015-02-28 23:00:00+00:00  4679.112  22930.612\n",
       "2015-03-31 22:00:00+00:00  4679.219  22930.712\n",
       "2015-04-30 22:00:00+00:00  4679.583  22932.512"
      ]
     },
     "execution_count": 47,
     "metadata": {},
     "output_type": "execute_result"
    }
   ],
   "source": [
    "df_pot_solar = pd.read_csv('data/potencia_instalada_solar.csv', sep=';', index_col=5, parse_dates=True)\n",
    "df_pot_solar = df_pot_solar[['value']]\n",
    "\n",
    "df_pot_eolica = pd.read_csv('data/potencia_instalada_eolica.csv', sep=';', index_col=5, parse_dates=True)\n",
    "df_pot_eolica = df_pot_eolica[['value']]\n",
    "\n",
    "df_pot = df_pot_solar.merge(df_pot_eolica, left_index=True, right_index=True, how='outer')\n",
    "df_pot = df_pot.rename(columns={\n",
    "    'value_x': 'solar',\n",
    "    'value_y': 'eolica'\n",
    "})\n",
    "df_pot.index = pd.to_datetime(df_pot.index, format='ISO8601', utc=True)\n",
    "df_pot = df_pot.loc[~df_pot.index.duplicated()]\n",
    "df_pot.to_csv('data/potencia_instalada_conjunto.csv')\n",
    "df_pot.head()"
   ]
  },
  {
   "cell_type": "markdown",
   "metadata": {},
   "source": [
    "## Factor Potencia"
   ]
  },
  {
   "cell_type": "code",
   "execution_count": 10,
   "metadata": {},
   "outputs": [
    {
     "data": {
      "text/html": [
       "<div>\n",
       "<style scoped>\n",
       "    .dataframe tbody tr th:only-of-type {\n",
       "        vertical-align: middle;\n",
       "    }\n",
       "\n",
       "    .dataframe tbody tr th {\n",
       "        vertical-align: top;\n",
       "    }\n",
       "\n",
       "    .dataframe thead th {\n",
       "        text-align: right;\n",
       "    }\n",
       "</style>\n",
       "<table border=\"1\" class=\"dataframe\">\n",
       "  <thead>\n",
       "    <tr style=\"text-align: right;\">\n",
       "      <th></th>\n",
       "      <th>solar</th>\n",
       "      <th>eolica</th>\n",
       "    </tr>\n",
       "    <tr>\n",
       "      <th>index</th>\n",
       "      <th></th>\n",
       "      <th></th>\n",
       "    </tr>\n",
       "  </thead>\n",
       "  <tbody>\n",
       "    <tr>\n",
       "      <th>2014-11-01 00:00:00+00:00</th>\n",
       "      <td>0.002629</td>\n",
       "      <td>0.150255</td>\n",
       "    </tr>\n",
       "    <tr>\n",
       "      <th>2014-11-01 01:00:00+00:00</th>\n",
       "      <td>0.002602</td>\n",
       "      <td>0.138126</td>\n",
       "    </tr>\n",
       "    <tr>\n",
       "      <th>2014-11-01 02:00:00+00:00</th>\n",
       "      <td>0.002614</td>\n",
       "      <td>0.116548</td>\n",
       "    </tr>\n",
       "    <tr>\n",
       "      <th>2014-11-01 03:00:00+00:00</th>\n",
       "      <td>0.002598</td>\n",
       "      <td>0.100003</td>\n",
       "    </tr>\n",
       "    <tr>\n",
       "      <th>2014-11-01 04:00:00+00:00</th>\n",
       "      <td>0.002586</td>\n",
       "      <td>0.085874</td>\n",
       "    </tr>\n",
       "    <tr>\n",
       "      <th>...</th>\n",
       "      <td>...</td>\n",
       "      <td>...</td>\n",
       "    </tr>\n",
       "    <tr>\n",
       "      <th>2023-11-30 18:00:00+00:00</th>\n",
       "      <td>0.000378</td>\n",
       "      <td>0.379457</td>\n",
       "    </tr>\n",
       "    <tr>\n",
       "      <th>2023-11-30 19:00:00+00:00</th>\n",
       "      <td>0.000363</td>\n",
       "      <td>0.379225</td>\n",
       "    </tr>\n",
       "    <tr>\n",
       "      <th>2023-11-30 20:00:00+00:00</th>\n",
       "      <td>0.000365</td>\n",
       "      <td>0.340313</td>\n",
       "    </tr>\n",
       "    <tr>\n",
       "      <th>2023-11-30 21:00:00+00:00</th>\n",
       "      <td>0.000425</td>\n",
       "      <td>0.309839</td>\n",
       "    </tr>\n",
       "    <tr>\n",
       "      <th>2023-11-30 22:00:00+00:00</th>\n",
       "      <td>0.000269</td>\n",
       "      <td>0.300939</td>\n",
       "    </tr>\n",
       "  </tbody>\n",
       "</table>\n",
       "<p>79607 rows × 2 columns</p>\n",
       "</div>"
      ],
      "text/plain": [
       "                              solar    eolica\n",
       "index                                        \n",
       "2014-11-01 00:00:00+00:00  0.002629  0.150255\n",
       "2014-11-01 01:00:00+00:00  0.002602  0.138126\n",
       "2014-11-01 02:00:00+00:00  0.002614  0.116548\n",
       "2014-11-01 03:00:00+00:00  0.002598  0.100003\n",
       "2014-11-01 04:00:00+00:00  0.002586  0.085874\n",
       "...                             ...       ...\n",
       "2023-11-30 18:00:00+00:00  0.000378  0.379457\n",
       "2023-11-30 19:00:00+00:00  0.000363  0.379225\n",
       "2023-11-30 20:00:00+00:00  0.000365  0.340313\n",
       "2023-11-30 21:00:00+00:00  0.000425  0.309839\n",
       "2023-11-30 22:00:00+00:00  0.000269  0.300939\n",
       "\n",
       "[79607 rows x 2 columns]"
      ]
     },
     "execution_count": 10,
     "metadata": {},
     "output_type": "execute_result"
    }
   ],
   "source": [
    "df_pot = pd.read_csv('data/potencia_instalada_conjunto.csv', index_col=0,parse_dates=True)\n",
    "df_gen = pd.read_csv('data/generacion_conjunto.csv', index_col=0,parse_dates=True)\n",
    "df_pot['year'] = (pd.to_datetime(df_pot.index) - timedelta(days=31)).year\n",
    "df_pot['month'] = (pd.to_datetime(df_pot.index) - timedelta(days=31)).month\n",
    "df_gen['year'] = pd.to_datetime(df_gen.index).year\n",
    "df_gen['month'] = pd.to_datetime(df_gen.index).month\n",
    "df_mix = df_gen.merge(df_pot, how='left', on=['year', 'month'], suffixes=['_gen', '_pot'])\n",
    "df_mix.index = df_gen.index\n",
    "df_mix_c = df_mix.dropna()\n",
    "df_mix_c.loc[:,'solar_gen'] = df_mix_c.loc[:,'solar_gen']/ df_mix_c.loc[:,'solar_pot']\n",
    "df_mix_c.loc[:,'eolica_gen'] = df_mix_c.loc[:,'eolica_gen'] / df_mix_c.loc[:,'eolica_pot']\n",
    "df_mix_c = df_mix_c[['solar_gen', 'eolica_gen']]\n",
    "df_mix_c = df_mix_c.rename(columns={\n",
    "    'solar_gen': 'solar',\n",
    "    'eolica_gen': 'eolica',\n",
    "})\n",
    "df_mix_c"
   ]
  },
  {
   "cell_type": "code",
   "execution_count": 12,
   "metadata": {},
   "outputs": [],
   "source": [
    "df_mix_c.to_csv('data/factor_capacidad_conjunto.csv')"
   ]
  },
  {
   "cell_type": "code",
   "execution_count": 11,
   "metadata": {},
   "outputs": [
    {
     "data": {
      "image/png": "[encoded data removed]",
      "text/plain": [
       "<Figure size 640x480 with 1 Axes>"
      ]
     },
     "metadata": {},
     "output_type": "display_data"
    }
   ],
   "source": [
    "plt.plot(df_mix_c.index, df_mix_c['solar'])\n",
    "plt.plot(df_mix_c.index, df_mix_c['eolica'])\n",
    "plt.legend(['solar','eolica'])\n",
    "plt.show()"
   ]
  },
  {
   "cell_type": "code",
   "execution_count": null,
   "metadata": {},
   "outputs": [],
   "source": []
  }
 ],
 "metadata": {
  "kernelspec": {
   "display_name": "venv",
   "language": "python",
   "name": "python3"
  },
  "language_info": {
   "codemirror_mode": {
    "name": "ipython",
    "version": 3
   },
   "file_extension": ".py",
   "mimetype": "text/x-python",
   "name": "python",
   "nbconvert_exporter": "python",
   "pygments_lexer": "ipython3",
   "version": "3.10.12"
  }
 },
 "nbformat": 4,
 "nbformat_minor": 2
}
