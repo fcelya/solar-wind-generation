{
 "cells": [
  {
   "cell_type": "code",
   "execution_count": 1,
   "metadata": {},
   "outputs": [],
   "source": [
    "import numpy as np\n",
    "from hmmlearn import hmm\n",
    "import pandas as pd"
   ]
  },
  {
   "cell_type": "code",
   "execution_count": 2,
   "metadata": {},
   "outputs": [],
   "source": [
    "def read_dataset(name='data/factor_capacidad_conjunto.csv',data='solar'):\n",
    "    df = pd.read_csv(name,index_col=0,parse_dates=True)\n",
    "    df = df.rename(columns={\n",
    "        data: 'y'\n",
    "    })\n",
    "    return df[['y']]\n",
    "\n",
    "df = read_dataset()"
   ]
  },
  {
   "cell_type": "code",
   "execution_count": 3,
   "metadata": {},
   "outputs": [],
   "source": [
    "PRED_LEN = 24*365\n",
    "df_train = df.iloc[-PRED_LEN:,:]\n",
    "df_test = df.iloc[:-PRED_LEN,:]"
   ]
  },
  {
   "cell_type": "code",
   "execution_count": 5,
   "metadata": {},
   "outputs": [
    {
     "name": "stderr",
     "output_type": "stream",
     "text": [
      "         1    -557.57380854             +nan\n",
      "         2    2688.27855152   +3245.85236006\n",
      "         3    5861.33905183   +3173.06050030\n",
      "         4    6793.55810154    +932.21904971\n",
      "         5    7547.94346671    +754.38536517\n",
      "         6    8373.07047624    +825.12700953\n",
      "         7    9450.64750562   +1077.57702938\n",
      "         8   10799.08774760   +1348.44024198\n",
      "         9   12116.76731530   +1317.67956769\n",
      "        10   13083.37106993    +966.60375464\n",
      "        11   13444.93149214    +361.56042221\n",
      "        12   13542.25521905     +97.32372691\n",
      "        13   13567.60871087     +25.35349182\n",
      "        14   13574.17546145      +6.56675058\n",
      "        15   13576.08447599      +1.90901454\n",
      "        16   13576.80217504      +0.71769905\n",
      "        17   13577.18959213      +0.38741709\n",
      "        18   13577.48711454      +0.29752241\n",
      "        19   13577.77546821      +0.28835367\n",
      "        20   13578.08861901      +0.31315080\n",
      "        21   13578.44543569      +0.35681668\n",
      "        22   13578.86024285      +0.41480716\n",
      "        23   13579.34703248      +0.48678964\n",
      "        24   13579.92155477      +0.57452229\n",
      "        25   13580.60272601      +0.68117124\n",
      "        26   13581.41394328      +0.81121728\n",
      "        27   13582.38461715      +0.97067386\n",
      "        28   13583.55216174      +1.16754460\n",
      "        29   13584.96471025      +1.41254850\n",
      "        30   13586.68492994      +1.72021969\n",
      "        31   13588.79551742      +2.11058748\n",
      "        32   13591.40732714      +2.61180972\n",
      "        33   13594.67177226      +3.26444512\n",
      "        34   13598.80044482      +4.12867256\n",
      "        35   13604.09751435      +5.29706953\n",
      "        36   13611.01595441      +6.91844006\n",
      "        37   13620.26088849      +9.24493408\n",
      "        38   13632.99259991     +12.73171142\n",
      "        39   13651.25763013     +18.26503022\n",
      "        40   13678.99296803     +27.73533790\n",
      "        41   13724.63407019     +45.64110216\n",
      "        42   13808.71258634     +84.07851615\n",
      "        43   13987.08852210    +178.37593576\n",
      "        44   14394.88923855    +407.80071644\n",
      "        45   15061.66025349    +666.77101495\n",
      "        46   15379.75727610    +318.09702261\n",
      "        47   15408.32711883     +28.56984273\n",
      "        48   15413.34275327      +5.01563444\n",
      "        49   15416.79113698      +3.44838371\n",
      "        50   15419.60387103      +2.81273405\n"
     ]
    }
   ],
   "source": [
    "model = hmm.GaussianHMM(n_components=3, covariance_type=\"full\",verbose=True,n_iter=50)\n",
    "model.fit(df_train)\n",
    "pass"
   ]
  },
  {
   "cell_type": "code",
   "execution_count": 7,
   "metadata": {},
   "outputs": [],
   "source": [
    "z = model.predict(df_train)"
   ]
  },
  {
   "cell_type": "code",
   "execution_count": 9,
   "metadata": {},
   "outputs": [],
   "source": [
    "import matplotlib.pyplot as plt"
   ]
  },
  {
   "cell_type": "code",
   "execution_count": null,
   "metadata": {},
   "outputs": [],
   "source": []
  }
 ],
 "metadata": {
  "kernelspec": {
   "display_name": "venv",
   "language": "python",
   "name": "python3"
  },
  "language_info": {
   "codemirror_mode": {
    "name": "ipython",
    "version": 3
   },
   "file_extension": ".py",
   "mimetype": "text/x-python",
   "name": "python",
   "nbconvert_exporter": "python",
   "pygments_lexer": "ipython3",
   "version": "3.10.12"
  }
 },
 "nbformat": 4,
 "nbformat_minor": 2
}
