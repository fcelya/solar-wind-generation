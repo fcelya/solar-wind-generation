{
 "cells": [
  {
   "cell_type": "code",
   "execution_count": 1,
   "metadata": {},
   "outputs": [],
   "source": [
    "import pandas as pd\n",
    "import numpy as np\n",
    "import matplotlib.pyplot as plt\n",
    "import scipy.stats"
   ]
  },
  {
   "cell_type": "code",
   "execution_count": 9,
   "metadata": {},
   "outputs": [
    {
     "name": "stderr",
     "output_type": "stream",
     "text": [
      "/tmp/ipykernel_2766/1096351841.py:1: FutureWarning: 'H' is deprecated and will be removed in a future version, please use 'h' instead.\n",
      "  date_range_observed = pd.date_range(start=\"2015-01-01\", end=\"2024-07-24 23:00:00\", freq='H')\n",
      "/tmp/ipykernel_2766/1096351841.py:5: FutureWarning: 'H' is deprecated and will be removed in a future version, please use 'h' instead.\n",
      "  date_range_predicted = pd.date_range(start=date_range_observed[-365*24], end=date_range_observed[-1], freq='H')\n"
     ]
    },
    {
     "data": {
      "text/plain": [
       "(                         wind  solar_pv  solar_th\n",
       " 2015-01-01 00:00:00  0.496714 -0.138264  0.647689\n",
       " 2015-01-01 01:00:00  1.523030 -0.234153 -0.234137\n",
       " 2015-01-01 02:00:00  1.579213  0.767435 -0.469474\n",
       " 2015-01-01 03:00:00  0.542560 -0.463418 -0.465730\n",
       " 2015-01-01 04:00:00  0.241962 -1.913280 -1.724918,\n",
       "                          wind  solar_pv  solar_th\n",
       " 2023-07-26 00:00:00  1.092122 -0.513042  2.805864\n",
       " 2023-07-26 01:00:00 -1.243588 -1.222445 -1.231983\n",
       " 2023-07-26 02:00:00 -0.418960 -2.012888 -1.547864\n",
       " 2023-07-26 03:00:00 -0.130661 -0.576877  1.279909\n",
       " 2023-07-26 04:00:00  0.680455 -0.556472 -0.859357)"
      ]
     },
     "execution_count": 9,
     "metadata": {},
     "output_type": "execute_result"
    }
   ],
   "source": [
    "date_range_observed = pd.date_range(start=\"2015-01-01\", end=\"2024-07-24 23:00:00\", freq='H')\n",
    "np.random.seed(42)\n",
    "observed_data = np.random.randn(len(date_range_observed),3)  # Random normal data\n",
    "df_observed = pd.DataFrame(observed_data, index=date_range_observed, columns=['wind','solar_pv','solar_th'])\n",
    "date_range_predicted = pd.date_range(start=date_range_observed[-365*24], end=date_range_observed[-1], freq='H')\n",
    "predicted_data = np.random.randn(len(date_range_predicted),3)  # Random normal data\n",
    "df_predicted = pd.DataFrame(predicted_data, index=date_range_predicted, columns=['wind','solar_pv','solar_th'])\n",
    "df_observed.head(), df_predicted.head()"
   ]
  },
  {
   "cell_type": "markdown",
   "metadata": {},
   "source": [
    "### Cramer Von Mises"
   ]
  },
  {
   "cell_type": "code",
   "execution_count": 3,
   "metadata": {},
   "outputs": [],
   "source": [
    "from scipy.stats import cramervonmises, ecdf"
   ]
  },
  {
   "cell_type": "code",
   "execution_count": 11,
   "metadata": {},
   "outputs": [
    {
     "data": {
      "text/plain": [
       "{'wind': np.float64(0.1657046415792981),\n",
       " 'solar_pv': np.float64(0.09824392885688041),\n",
       " 'solar_th': np.float64(0.13005994966010606)}"
      ]
     },
     "execution_count": 11,
     "metadata": {},
     "output_type": "execute_result"
    }
   ],
   "source": [
    "results = {}\n",
    "for c in df_observed.columns:\n",
    "    cdf = ecdf(df_observed[c])\n",
    "    cdf = cdf.cdf\n",
    "    res = cramervonmises(df_predicted[c], cdf.evaluate)\n",
    "    results[c] = res.statistic\n",
    "results"
   ]
  },
  {
   "cell_type": "markdown",
   "metadata": {},
   "source": [
    "### KL divergence"
   ]
  },
  {
   "cell_type": "code",
   "execution_count": 12,
   "metadata": {},
   "outputs": [],
   "source": [
    "from scipy.stats import entropy\n",
    "from sklearn.neighbors import KernelDensity"
   ]
  },
  {
   "cell_type": "code",
   "execution_count": 13,
   "metadata": {},
   "outputs": [],
   "source": [
    "# n_bins = [30,60,90,150,300,500,1000]\n",
    "# for num_bins in n_bins:\n",
    "#     # num_bins = 30\n",
    "#     observed_hist, bin_edges = np.histogram(df_observed['obs'], bins=num_bins, density=True)\n",
    "#     predicted_hist, _ = np.histogram(df_predicted['predicted'], bins=bin_edges, density=True)\n",
    "#     predicted_hist += 1e-10\n",
    "#     kl_divergence = entropy(observed_hist, predicted_hist)\n",
    "#     print(num_bins, kl_divergence)"
   ]
  },
  {
   "cell_type": "code",
   "execution_count": 14,
   "metadata": {},
   "outputs": [
    {
     "data": {
      "text/plain": [
       "{'wind': np.float64(0.001839808401045338),\n",
       " 'solar_pv': np.float64(0.001806386172779419),\n",
       " 'solar_th': np.float64(0.0014269050126308133)}"
      ]
     },
     "execution_count": 14,
     "metadata": {},
     "output_type": "execute_result"
    }
   ],
   "source": [
    "results = {}\n",
    "for c in df_observed.columns:\n",
    "    # Fit KDE for observed and predicted data\n",
    "    kde_observed = KernelDensity(kernel='gaussian', bandwidth=0.1).fit(df_observed[c].values.reshape(-1, 1))\n",
    "    kde_predicted = KernelDensity(kernel='gaussian', bandwidth=0.1).fit(df_predicted[c].values.reshape(-1, 1))\n",
    "\n",
    "    # Evaluate KDE on a common set of points (a linear space covering both observed and predicted ranges)\n",
    "    common_grid = np.linspace(min(df_observed[c].min(), df_predicted[c].min()),\n",
    "                            max(df_observed[c].max(), df_predicted[c].max()), 5000).reshape(-1, 1)\n",
    "\n",
    "    # Compute log density values\n",
    "    log_density_observed = kde_observed.score_samples(common_grid)\n",
    "    log_density_predicted = kde_predicted.score_samples(common_grid)\n",
    "\n",
    "    # Convert log densities to actual densities\n",
    "    density_observed = np.exp(log_density_observed)\n",
    "    density_predicted = np.exp(log_density_predicted)\n",
    "\n",
    "    # Add a small constant to prevent division by zero\n",
    "    density_predicted += 1e-10\n",
    "\n",
    "    # Calculate KL divergence\n",
    "    kl_divergence_kde = entropy(density_observed, density_predicted)\n",
    "\n",
    "    results[c]=kl_divergence_kde\n",
    "results"
   ]
  },
  {
   "cell_type": "markdown",
   "metadata": {},
   "source": [
    "### ACF distance"
   ]
  },
  {
   "cell_type": "code",
   "execution_count": 23,
   "metadata": {},
   "outputs": [
    {
     "name": "stdout",
     "output_type": "stream",
     "text": [
      "{'wind': (np.float64(0.002280553488101022), np.float64(0.004999741019547082)), 'solar_pv': (np.float64(0.0022352269308648694), np.float64(0.004578077734962516)), 'solar_th': (np.float64(0.002675986753910811), np.float64(0.005143137015705897))}\n"
     ]
    }
   ],
   "source": [
    "def new_corr_coef(df, x='x', y='y'):\n",
    "    \"\"\"\n",
    "    s_x: pd.Series, np.array\n",
    "    \"\"\"\n",
    "    n = len(df)\n",
    "    df = df.sort_values(by=x, ascending=True)\n",
    "    rank = df[y].rank(method='min')\n",
    "    coef = 1 - 3*sum(abs(rank-rank.shift(1))[1:])/(n**2-1)\n",
    "    return coef\n",
    "\n",
    "def calc_lcf(series_org, series_lag, n_lags=24*3):\n",
    "    assert len(series_org) == len(series_lag)\n",
    "    rhos = []\n",
    "    xis = []\n",
    "    for lag in range(n_lags + 1):\n",
    "        shifted_series = series_lag.shift(lag)\n",
    "        rho = series_org.corr(shifted_series)\n",
    "        df = pd.DataFrame({'x':shifted_series, 'y':series_org})\n",
    "        df = df.dropna()\n",
    "        xi = new_corr_coef(df)\n",
    "        rhos.append(rho)\n",
    "        xis.append(xi)\n",
    "    return rhos, xis\n",
    "\n",
    "def calc_cf_dist(cf_obs,cf_pred):\n",
    "    cf_obs = np.array(cf_obs)\n",
    "    cf_pred = np.array(cf_pred)\n",
    "    w = np.abs(cf_obs)\n",
    "    return np.sqrt((w*(cf_obs-cf_pred)**2).sum()/w.sum())\n",
    "\n",
    "lcs = {}\n",
    "# lcs structure: {series: ((xi_obs, xi_pred),(rho_obs,rho_pred))}\n",
    "for c in df_observed.columns:\n",
    "    lc_rhos_pred, lc_xis_pred = calc_lcf(df_predicted[c],df_predicted[c])\n",
    "    lc_rhos_obs, lc_xis_obs = calc_lcf(df_observed[c],df_observed[c])\n",
    "    acfd_xi = calc_cf_dist(lc_xis_obs,lc_xis_pred)\n",
    "    acfd_rho = calc_cf_dist(lc_rhos_obs, lc_rhos_pred)\n",
    "    lcs[c] = (acfd_xi,acfd_rho)\n",
    "\n",
    "print(lcs)\n"
   ]
  },
  {
   "cell_type": "markdown",
   "metadata": {},
   "source": [
    "### CCMD"
   ]
  },
  {
   "cell_type": "code",
   "execution_count": 8,
   "metadata": {},
   "outputs": [],
   "source": [
    "from copulas.univariate import GaussianKDE\n",
    "from copulas.multivariate import GaussianMultivariate"
   ]
  },
  {
   "cell_type": "code",
   "execution_count": 17,
   "metadata": {},
   "outputs": [
    {
     "name": "stdout",
     "output_type": "stream",
     "text": [
      "0.01208680919821136\n"
     ]
    }
   ],
   "source": [
    "def calc_mat_dist(m1,m2):\n",
    "    n = len(m1)\n",
    "    res = 0\n",
    "    for i in range(1,n):\n",
    "        for j in range(0,n-1):\n",
    "            res += (m1[i][j] - m2[i][j])**2\n",
    "    res /= (n*(n-1)/2)\n",
    "    return res**.5\n",
    "\n",
    "dist_obs = GaussianMultivariate(distribution={\n",
    "    'solar_pv':GaussianKDE,\n",
    "    'solar_th':GaussianKDE,\n",
    "    'wind':GaussianKDE,\n",
    "})\n",
    "dist_obs.fit(df_observed.sample(7500,random_state=42))\n",
    "params_obs = dist_obs.to_dict()\n",
    "dist_pred = GaussianMultivariate(distribution={\n",
    "    'solar_pv':GaussianKDE,\n",
    "    'solar_th':GaussianKDE,\n",
    "    'wind':GaussianKDE,\n",
    "})\n",
    "dist_pred.fit(df_predicted.sample(7500,random_state=42))\n",
    "params_pred = dist_pred.to_dict()\n",
    "ccmd = calc_mat_dist(params_obs['correlation'],params_pred['correlation'])\n",
    "print(ccmd)"
   ]
  },
  {
   "cell_type": "markdown",
   "metadata": {},
   "source": [
    "### CCF distance"
   ]
  },
  {
   "cell_type": "code",
   "execution_count": null,
   "metadata": {},
   "outputs": [],
   "source": []
  }
 ],
 "metadata": {
  "kernelspec": {
   "display_name": "venv",
   "language": "python",
   "name": "python3"
  },
  "language_info": {
   "codemirror_mode": {
    "name": "ipython",
    "version": 3
   },
   "file_extension": ".py",
   "mimetype": "text/x-python",
   "name": "python",
   "nbconvert_exporter": "python",
   "pygments_lexer": "ipython3",
   "version": "3.10.12"
  }
 },
 "nbformat": 4,
 "nbformat_minor": 2
}
