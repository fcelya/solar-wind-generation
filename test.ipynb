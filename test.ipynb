{
 "cells": [
  {
   "cell_type": "code",
   "execution_count": 22,
   "metadata": {},
   "outputs": [],
   "source": [
    "from scipy.optimize import minimize"
   ]
  },
  {
   "cell_type": "code",
   "execution_count": 23,
   "metadata": {},
   "outputs": [],
   "source": [
    "def calc_mp(fv,c,m,ytm):\n",
    "    return fv*(ytm**-m) + sum(c*(ytm**-i) for i in range(1,m+1))\n",
    "\n",
    "def calc_ytm(fv,c,m,p):\n",
    "    c*=fv/100\n",
    "    def obj_f(x):\n",
    "        return (p-calc_mp(fv,c,m,x))**2\n",
    "    sol = minimize(obj_f,1.05)\n",
    "    return (sol.x[0]-1)*100"
   ]
  },
  {
   "cell_type": "code",
   "execution_count": 24,
   "metadata": {},
   "outputs": [
    {
     "name": "stdout",
     "output_type": "stream",
     "text": [
      "(1000, 4.375, 5, 929.55) 6.050%\n",
      "(1000, 4.875, 6, 946.68) 5.958%\n",
      "(50000, 7.25, 4, 52167.69) 5.999%\n",
      "(1000, 3.735, 7, 871.56) 6.039%\n",
      "(1000, 8.25, 3, 1062.14) 5.928%\n",
      "(1000, 5, 10, 1050) 4.372%\n"
     ]
    }
   ],
   "source": [
    "args_list = [\n",
    "    (1000,4.375,5,929.55),\n",
    "    (1000,4.875,6,946.68),\n",
    "    (50000,7.25,4,52167.69),\n",
    "    (1000,3.735,7,871.56),\n",
    "    (1000,8.25,3,1062.14),\n",
    "    (1000,5,10,1050),\n",
    "]\n",
    "for a in args_list:\n",
    "    ytm = calc_ytm(*a)\n",
    "    print(f'{a} {ytm:.3f}%')"
   ]
  },
  {
   "cell_type": "code",
   "execution_count": 25,
   "metadata": {},
   "outputs": [],
   "source": [
    "import pandas as pd\n",
    "import numpy as np"
   ]
  },
  {
   "cell_type": "code",
   "execution_count": 63,
   "metadata": {},
   "outputs": [],
   "source": [
    "def new_corr_coef(s_x, s_y):\n",
    "    \"\"\"\n",
    "    s_x: pd.Series, np.array\n",
    "    \"\"\"\n",
    "    assert len(s_x)==len(s_y)\n",
    "    n = len(s_x)\n",
    "    df = pd.DataFrame({'x':s_x, 'y':s_y})\n",
    "    df = df.sort_values(by='x', ascending=True)\n",
    "    rank = df['y'].rank(method='min')\n",
    "    coef = 1 - 3*sum(abs(rank-rank.shift(1))[1:])/(n**2-1)\n",
    "    return coef\n",
    "\n",
    "def rank_y(df):\n",
    "    sorted_df = df.sort_values(by='y')\n",
    "    ranked_series = sorted_df.groupby('y').cumcount() + 1\n",
    "    return ranked_series\n",
    "\n",
    "def new_corr_coef_2(s_x, s_y):\n",
    "    \"\"\"\n",
    "    s_x: pd.Series, np.array\n",
    "    \"\"\"\n",
    "    assert len(s_x)==len(s_y)\n",
    "    n = len(s_x)\n",
    "    df = pd.DataFrame({'x':s_x, 'y':s_y})\n",
    "    df = df.sort_values(by='x', ascending=True)\n",
    "    rank = df['y'].rank(method='min')\n",
    "    rank2 = df['y'].rank(method='max')\n",
    "    coef = 1 - n*sum(abs(rank-rank.shift(1))[1:])/2/sum(rank2*(n-rank2))\n",
    "    return coef\n"
   ]
  },
  {
   "cell_type": "code",
   "execution_count": 53,
   "metadata": {},
   "outputs": [],
   "source": [
    "from scipy.stats import bernoulli"
   ]
  },
  {
   "cell_type": "code",
   "execution_count": 66,
   "metadata": {},
   "outputs": [
    {
     "name": "stdout",
     "output_type": "stream",
     "text": [
      "0.25464422072546444\n",
      "0.001699963718951869\n"
     ]
    }
   ],
   "source": [
    "a = bernoulli(.4)\n",
    "a = a.rvs(100000)\n",
    "b = bernoulli(.5)\n",
    "b = b.rvs(100000)\n",
    "print(new_corr_coef(a,b))\n",
    "print(new_corr_coef_2(a,b))"
   ]
  },
  {
   "cell_type": "code",
   "execution_count": null,
   "metadata": {},
   "outputs": [],
   "source": []
  },
  {
   "cell_type": "code",
   "execution_count": null,
   "metadata": {},
   "outputs": [],
   "source": []
  }
 ],
 "metadata": {
  "kernelspec": {
   "display_name": "venv",
   "language": "python",
   "name": "python3"
  },
  "language_info": {
   "codemirror_mode": {
    "name": "ipython",
    "version": 3
   },
   "file_extension": ".py",
   "mimetype": "text/x-python",
   "name": "python",
   "nbconvert_exporter": "python",
   "pygments_lexer": "ipython3",
   "version": "3.10.12"
  }
 },
 "nbformat": 4,
 "nbformat_minor": 2
}
