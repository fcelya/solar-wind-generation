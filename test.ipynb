{
 "cells": [
  {
   "cell_type": "code",
   "execution_count": 1,
   "metadata": {},
   "outputs": [],
   "source": [
    "import pandas as pd\n",
    "import numpy as np\n",
    "import matplotlib.pyplot as plt\n",
    "import scipy.stats"
   ]
  },
  {
   "cell_type": "code",
   "execution_count": 2,
   "metadata": {},
   "outputs": [
    {
     "data": {
      "text/plain": [
       "(                          obs\n",
       " 2015-01-01 00:00:00  0.496714\n",
       " 2015-01-01 01:00:00 -0.138264\n",
       " 2015-01-01 02:00:00  0.647689\n",
       " 2015-01-01 03:00:00  1.523030\n",
       " 2015-01-01 04:00:00 -0.234153,\n",
       "                      predicted\n",
       " 2023-07-26 00:00:00   0.030139\n",
       " 2023-07-26 01:00:00  -0.052515\n",
       " 2023-07-26 02:00:00   0.337386\n",
       " 2023-07-26 03:00:00   0.547897\n",
       " 2023-07-26 04:00:00  -0.829152)"
      ]
     },
     "execution_count": 2,
     "metadata": {},
     "output_type": "execute_result"
    }
   ],
   "source": [
    "date_range_observed = pd.date_range(start=\"2015-01-01\", end=\"2024-07-24 23:00:00\", freq='H')\n",
    "np.random.seed(42)\n",
    "observed_data = np.random.randn(len(date_range_observed))  # Random normal data\n",
    "df_observed = pd.DataFrame(observed_data, index=date_range_observed, columns=['obs'])\n",
    "date_range_predicted = pd.date_range(start=date_range_observed[-365*24], end=date_range_observed[-1], freq='H')\n",
    "predicted_data = np.random.randn(len(date_range_predicted))  # Random normal data\n",
    "df_predicted = pd.DataFrame(predicted_data, index=date_range_predicted, columns=['predicted'])\n",
    "df_observed.head(), df_predicted.head()\n"
   ]
  },
  {
   "cell_type": "markdown",
   "metadata": {},
   "source": [
    "### Cramer Von Mises"
   ]
  },
  {
   "cell_type": "code",
   "execution_count": 4,
   "metadata": {},
   "outputs": [],
   "source": [
    "from scipy.stats import cramervonmises, ecdf"
   ]
  },
  {
   "cell_type": "code",
   "execution_count": 10,
   "metadata": {},
   "outputs": [
    {
     "data": {
      "text/plain": [
       "CramerVonMisesResult(statistic=0.09929517822045522, pvalue=0.5883505353760552)"
      ]
     },
     "execution_count": 10,
     "metadata": {},
     "output_type": "execute_result"
    }
   ],
   "source": [
    "cdf = ecdf(df_observed['obs'])\n",
    "cdf = cdf.cdf\n",
    "res = cramervonmises(df_predicted['predicted'], cdf.evaluate)\n",
    "res"
   ]
  },
  {
   "cell_type": "markdown",
   "metadata": {},
   "source": [
    "### KL divergence"
   ]
  },
  {
   "cell_type": "code",
   "execution_count": 11,
   "metadata": {},
   "outputs": [],
   "source": [
    "from scipy.stats import entropy"
   ]
  },
  {
   "cell_type": "code",
   "execution_count": 14,
   "metadata": {},
   "outputs": [
    {
     "name": "stdout",
     "output_type": "stream",
     "text": [
      "30 0.004678307142714767\n",
      "60 0.013757784130966141\n",
      "90 0.01987000445454138\n",
      "150 0.025326580419997163\n",
      "300 0.04708684196236582\n",
      "500 0.09618378254583557\n",
      "1000 0.21660212855700117\n"
     ]
    }
   ],
   "source": [
    "n_bins = [30,60,90,150,300,500,1000]\n",
    "for num_bins in n_bins:\n",
    "    # num_bins = 30\n",
    "    observed_hist, bin_edges = np.histogram(df_observed['obs'], bins=num_bins, density=True)\n",
    "    predicted_hist, _ = np.histogram(df_predicted['predicted'], bins=bin_edges, density=True)\n",
    "    predicted_hist += 1e-10\n",
    "    kl_divergence = entropy(observed_hist, predicted_hist)\n",
    "    print(num_bins, kl_divergence)"
   ]
  },
  {
   "cell_type": "code",
   "execution_count": 18,
   "metadata": {},
   "outputs": [
    {
     "data": {
      "text/plain": [
       "0.002666428657081275"
      ]
     },
     "execution_count": 18,
     "metadata": {},
     "output_type": "execute_result"
    }
   ],
   "source": [
    "from sklearn.neighbors import KernelDensity\n",
    "\n",
    "# Fit KDE for observed and predicted data\n",
    "kde_observed = KernelDensity(kernel='gaussian', bandwidth=0.1).fit(df_observed['obs'].values.reshape(-1, 1))\n",
    "kde_predicted = KernelDensity(kernel='gaussian', bandwidth=0.1).fit(df_predicted['predicted'].values.reshape(-1, 1))\n",
    "\n",
    "# Evaluate KDE on a common set of points (a linear space covering both observed and predicted ranges)\n",
    "common_grid = np.linspace(min(df_observed['obs'].min(), df_predicted['predicted'].min()),\n",
    "                          max(df_observed['obs'].max(), df_predicted['predicted'].max()), 5000).reshape(-1, 1)\n",
    "\n",
    "# Compute log density values\n",
    "log_density_observed = kde_observed.score_samples(common_grid)\n",
    "log_density_predicted = kde_predicted.score_samples(common_grid)\n",
    "\n",
    "# Convert log densities to actual densities\n",
    "density_observed = np.exp(log_density_observed)\n",
    "density_predicted = np.exp(log_density_predicted)\n",
    "\n",
    "# Add a small constant to prevent division by zero\n",
    "density_predicted += 1e-10\n",
    "\n",
    "# Calculate KL divergence\n",
    "kl_divergence_kde = entropy(density_observed, density_predicted)\n",
    "\n",
    "kl_divergence_kde"
   ]
  },
  {
   "cell_type": "code",
   "execution_count": null,
   "metadata": {},
   "outputs": [],
   "source": []
  }
 ],
 "metadata": {
  "kernelspec": {
   "display_name": "venv",
   "language": "python",
   "name": "python3"
  },
  "language_info": {
   "codemirror_mode": {
    "name": "ipython",
    "version": 3
   },
   "file_extension": ".py",
   "mimetype": "text/x-python",
   "name": "python",
   "nbconvert_exporter": "python",
   "pygments_lexer": "ipython3",
   "version": "3.10.12"
  }
 },
 "nbformat": 4,
 "nbformat_minor": 2
}
